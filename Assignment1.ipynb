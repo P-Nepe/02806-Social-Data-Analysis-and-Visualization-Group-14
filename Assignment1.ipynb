{
 "cells": [
  {
   "cell_type": "markdown",
   "metadata": {},
   "source": [
    "# Assignment 1\n",
    "\n",
    "## Formalia:\n",
    "\n",
    "Please read the [assignment overview page](https://github.com/suneman/socialdata2025/wiki/Assignments) carefully before proceeding. This page contains information about formatting (including formats etc.), group sizes, and many other aspects of handing in the assignment. \n",
    "\n",
    "_If you fail to follow these simple instructions, it will negatively impact your grade!_\n",
    "\n",
    "**Due date and time**: The assignment is due on Monday March 3rd, 2025 at 23:55. Hand in your files via DTU Learn. "
   ]
  },
  {
   "cell_type": "markdown",
   "metadata": {},
   "source": [
    "## Part 1 - Heni\n",
    "\n",
    "From week 1's exercise, I'd like you to complete the \"*Exercise 3*: Temporal patterns\". The one where the main plot is the year-by-year evolution of the 10 focus crimes.\n",
    "\n",
    "**IMPORTANT**: FOR THIS AND ALL SUBSEQUENT EXERCISES, I WANT YOU TO USE THE FULL DATASET FROM 2003 TO 2025."
   ]
  },
  {
   "cell_type": "markdown",
   "metadata": {},
   "source": [
    "## Part 2 - Pawel\n",
    "\n",
    "Next, I would like you to answer some of the questions related to the videos shown during week 2. Specifically, I would like you to\n",
    "\n",
    "* Answer questions related to the main video-lecture on Data Visualization. (Where the first question is \"What is the difference between *data* and *metadata*?\")\n",
    "* Answer questions related to the video on \"Nice plots\". That is, generate the list of 10 rules for nice plots.\n"
   ]
  },
  {
   "cell_type": "markdown",
   "metadata": {},
   "source": [
    "## Part 3 - Pawel\n",
    "\n",
    "We stay with week 2. I would also like you to complete the exercise in Week 2, Part 4, entitled \"*Exercise*: Other cool ways to plot temporal data\" (the one where we explore alternatives to bar-plots, such as calendar plots, for plotting temporal data).\n",
    "\n",
    "In the exercise, i ask you to explore 3 different types of plots. For this assignment, you only need to do a calendar and polar bar chart.\n"
   ]
  },
  {
   "cell_type": "markdown",
   "metadata": {},
   "source": [
    "## Part 4 - Heni\n",
    "\n",
    "From week 3, I'd like you to work on the exercise contained in Week 3, Part 3. Specifically, I would like you to **both** complete \"*Excercise Part 1*: Connecting the dots and recreating plots from DAOST but using our own favorite dataset\" and \"*Excercise Part 2*\". These exercises focus on reproducing figure 2.1, 2.4 and 2.11 and exploring a few more ideas from the book using data from SFPD.\n"
   ]
  },
  {
   "cell_type": "markdown",
   "metadata": {},
   "source": [
    "## Part 5\n",
    "\n",
    "Finally, I'd like you to work on the exercise \"*Exercise*: Using all the tools to understand the temporal trends of prostitution in SF over time\" in Week 4, Part 3. "
   ]
  },
  {
   "cell_type": "markdown",
   "metadata": {},
   "source": [
    "# Answers"
   ]
  },
  {
   "cell_type": "markdown",
   "metadata": {},
   "source": [
    "### Library imports"
   ]
  },
  {
   "cell_type": "code",
   "execution_count": 1,
   "metadata": {},
   "outputs": [],
   "source": [
    "import zipfile\n",
    "import pandas as pd\n"
   ]
  },
  {
   "cell_type": "markdown",
   "metadata": {},
   "source": [
    "### Dataset load"
   ]
  },
  {
   "cell_type": "code",
   "execution_count": 2,
   "metadata": {},
   "outputs": [
    {
     "name": "stderr",
     "output_type": "stream",
     "text": [
      "/var/folders/7q/2yy2bs7n38d0xznwp1n66vv00000gn/T/ipykernel_51341/938242650.py:2: DtypeWarning: Columns (13) have mixed types. Specify dtype option on import or set low_memory=False.\n",
      "  df = pd.read_csv('combined_data.csv.zip',compression='zip')\n"
     ]
    },
    {
     "name": "stdout",
     "output_type": "stream",
     "text": [
      "             PdId  IncidntNum  Incident Code             Category  \\\n",
      "0   4133422003074    41334220           3074              Robbery   \n",
      "1   5118535807021    51185358           7021  Motor Vehicle Theft   \n",
      "2   4018830907021    40188309           7021  Motor Vehicle Theft   \n",
      "3  11014543126030   110145431          26030                Arson   \n",
      "4  10108108004134   101081080           4134              Assault   \n",
      "\n",
      "                Descript DayOfWeek        Date   Time PdDistrict Resolution  \\\n",
      "0  ROBBERY, BODILY FORCE    Monday  2004-11-22  17:50  INGLESIDE       NONE   \n",
      "1      STOLEN AUTOMOBILE   Tuesday  2005-10-18  20:00       PARK       NONE   \n",
      "2      STOLEN AUTOMOBILE    Sunday  2004-02-15  02:00   SOUTHERN       NONE   \n",
      "3                  ARSON    Friday  2011-02-18  05:27  INGLESIDE       NONE   \n",
      "4                BATTERY    Sunday  2010-11-21  17:00   SOUTHERN       NONE   \n",
      "\n",
      "                  Address           X          Y  \\\n",
      "0   GENEVA AV / SANTOS ST -122.420084  37.708311   \n",
      "1  TURK ST / STJOSEPHS AV -120.500000  90.000000   \n",
      "2     BRANNAN ST / 1ST ST -120.500000  90.000000   \n",
      "3   0 Block of SANJUAN AV -122.436220  37.724377   \n",
      "4    400 Block of 10TH ST -122.410541  37.770913   \n",
      "\n",
      "                                       location  \n",
      "0    POINT (-122.420084075249 37.7083109744362)  \n",
      "1                POINT (-120.50000000000001 90)  \n",
      "2                POINT (-120.50000000000001 90)  \n",
      "3  POINT (-122.43622001281001 37.7243766140428)  \n",
      "4    POINT (-122.410541166987 37.7709130566165)  \n"
     ]
    }
   ],
   "source": [
    "# read the dataset using the compression zip\n",
    "df = pd.read_csv('combined_data.csv.zip',compression='zip')\n",
    " \n",
    "# display dataset\n",
    "print(df.head())"
   ]
  },
  {
   "cell_type": "markdown",
   "metadata": {},
   "source": [
    "## Part 1 \n",
    "\n",
    "code and answers "
   ]
  },
  {
   "cell_type": "markdown",
   "metadata": {},
   "source": [
    "## Part 2 \n",
    "\n",
    "code and answers"
   ]
  },
  {
   "cell_type": "markdown",
   "metadata": {},
   "source": [
    "## Part 3 \n",
    "\n",
    "code and answers"
   ]
  },
  {
   "cell_type": "markdown",
   "metadata": {},
   "source": [
    "## Part 4\n",
    "\n",
    "code and answers"
   ]
  },
  {
   "cell_type": "markdown",
   "metadata": {},
   "source": [
    "## Part 5\n",
    "\n",
    "code and answers"
   ]
  }
 ],
 "metadata": {
  "kernelspec": {
   "display_name": ".venv",
   "language": "python",
   "name": "python3"
  },
  "language_info": {
   "codemirror_mode": {
    "name": "ipython",
    "version": 3
   },
   "file_extension": ".py",
   "mimetype": "text/x-python",
   "name": "python",
   "nbconvert_exporter": "python",
   "pygments_lexer": "ipython3",
   "version": "3.13.0"
  }
 },
 "nbformat": 4,
 "nbformat_minor": 4
}
